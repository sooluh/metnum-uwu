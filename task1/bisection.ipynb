{
  "cells": [
    {
      "cell_type": "markdown",
      "metadata": {
        "id": "OUpi4hFbp3Sm"
      },
      "source": [
        "# Personal Task #1\n",
        "\n",
        "<table width=\"100%\">\n",
        "  <tr>\n",
        "    <td width=80px><font size=3>Name</font></td>\n",
        "    <td width=5px><font size=3>:</font></td>\n",
        "    <td><font size=3>Suluh Sulistiawan</font></td>\n",
        "  </tr>\n",
        "  <tr>\n",
        "    <td width=80px><font size=3>NIM</font></td>\n",
        "    <td width=5px><font size=3>:</font></td>\n",
        "    <td><font size=3>211351143</font></td>\n",
        "  </tr>\n",
        "  <tr>\n",
        "    <td width=80px><font size=3>Class</font></td>\n",
        "    <td width=5px><font size=3>:</font></td>\n",
        "    <td><font size=3>IFMB 2021</font></td>\n",
        "  </tr>\n",
        "</table>"
      ]
    },
    {
      "cell_type": "markdown",
      "metadata": {
        "id": "kXKm9QfNwPdK"
      },
      "source": [
        "**GitHub Repository**:<br>\n",
        "[Explore ↗️](https://github.com/sooluh/metnum-uwu)"
      ]
    },
    {
      "cell_type": "markdown",
      "metadata": {
        "id": "ReMym0htwW4E"
      },
      "source": [
        "## Equation Formula\n",
        "\n",
        "\\begin{equation}\n",
        "f(x) = 2.05x^3-1.12x^3-4.23\n",
        "\\end{equation}"
      ]
    },
    {
      "cell_type": "markdown",
      "metadata": {
        "id": "y5Q8pg-AzQXX"
      },
      "source": [
        "## Define function\n",
        "\n",
        "Applying the above equation to a function in Python code:"
      ]
    },
    {
      "cell_type": "code",
      "execution_count": 16,
      "metadata": {
        "id": "xsP0Su0Xx0VH"
      },
      "outputs": [],
      "source": [
        "def f(x):\n",
        "    '''\n",
        "    rumus persamaan: 2,05 x ^ 3 - 1,12 x ^ 3 - 4,23\n",
        "\n",
        "    , diketik menjadi . jika dalam bahasa pemrograman (aturan internasional)\n",
        "    x adalah nilai variabel yang di \"pass\" ke dalam parameter fungsi f\n",
        "\n",
        "    ** artinya ^ (pangkat)\n",
        "    '''\n",
        "    return 2.05*x**3-1.12*x**3-4.23"
      ]
    },
    {
      "cell_type": "markdown",
      "metadata": {
        "id": "zeI28SWpzwo8"
      },
      "source": [
        "Implement the bisection method function:"
      ]
    },
    {
      "cell_type": "code",
      "execution_count": 17,
      "metadata": {
        "id": "JbXK0wt4zzyC"
      },
      "outputs": [],
      "source": [
        "# global variabel untuk animasi grafik\n",
        "root = 0\n",
        "\n",
        "'''\n",
        "fungsi \"bisection\" memiliki empat parameter (a, b, e dan n)\n",
        "parameter e bersifat opsional, secara default terisi sebagai 10^-4 (0.0001)\n",
        "parameter n pun opsional, secara default terisi sebagai 100\n",
        "'''\n",
        "def bisection(a, b, e=10**-4, n=100):\n",
        "    '''\n",
        "    deklarasi variabel untuk keperluan iterasi\n",
        "\n",
        "    step dimulai dari 1 (akan meningkat setiap perulangan)\n",
        "    condition diinisiasi sebagai True, untuk menjalankan iterasi pertama\n",
        "    '''\n",
        "    step = 1\n",
        "    condition = True\n",
        "\n",
        "    while condition:\n",
        "        '''\n",
        "        deklarasikan nilai c, dimana nilainya berisi sebuah rumus perhitungan\n",
        "        '''\n",
        "        c = (a + b) / 2\n",
        "\n",
        "        '''\n",
        "        cetak informasi yang didapat\n",
        "\n",
        "        % didalam python berfungsi untuk concatenation string\n",
        "        concatenation string adalah penggabungan nilai string dengan variabel atau string lainnya\n",
        "\n",
        "        %d untuk concatenation bernilai integer\n",
        "        %f untuk concatenation bernilai float\n",
        "\n",
        "        %0.4f artinya concatenation bernilai float dengan menerapkan 4 angka dibelakang koma\n",
        "        \\t untuk menggunakan (tab)\n",
        "\n",
        "        %d (akan) ditimpa dengan nilai dari variabel step\n",
        "        %0.4f yang pertama ditimpa dengan nilai dari variabel c\n",
        "        %0.4f yang terakhir ditimpa dengan nilai dari variabel c yang di \"pass\" ke fungsi f untuk menemukan nilai f(x)\n",
        "        '''\n",
        "        print('Iterasi ke-%d,\\tC = %0.4f dan f(C) = %0.4f' % (step, c, f(c)))\n",
        "\n",
        "        '''\n",
        "        jika f(a) x f(c) < 0 maka c adalah b (variabel b ditimpa dengan nilai dari variabel c)\n",
        "        selain itu maka c adalah a (variabel a ditimpa dengan nilai dari variabel c)\n",
        "        '''\n",
        "        if f(a) * f(c) < 0:\n",
        "            b = c\n",
        "        else:\n",
        "            a = c\n",
        "\n",
        "        '''\n",
        "        variabel step ditingkatkan (+1) disetiap iterasi\n",
        "\n",
        "        fungsi abs adalah fungsi bawaan python\n",
        "        untuk menentukan nilai absolut dari sebuah bilangan\n",
        "        hah?\n",
        "\n",
        "        misalkan ada sebuah nilai -2.034, dimasukkan ke dalam fungsi abs,\n",
        "        maka hasilnya 2.034 (tidak mempedulikan simbol negatif atau positif)\n",
        "\n",
        "        ketika nilai divariabel c dimasukkan ke dalam fungsi f(x)\n",
        "        lalu hasilnya masih lebih daripada nilai toleransi (dalam hal ini 10^-4)\n",
        "        dan iterasi masih kurang dari sama dengan variabel n (100)\n",
        "        maka variabel condition akan bernilai true dan iterasi akan terus berlanjut\n",
        "        '''\n",
        "        step = step + 1\n",
        "        condition = abs(f(c)) > e and step <= n\n",
        "\n",
        "    '''\n",
        "    ketika iterasi berhenti, artinya variabel condition bernilai false\n",
        "    kemungkinan, antara f(c) sudah melebihi batas toleransi\n",
        "    atau iterasi sudah melebihi 100 (nilai dari parameter n)\n",
        "    maka artinya, kita sudah menemukan akarnya\n",
        "    '''\n",
        "    print('\\nDitemukan, akarnya adalah: %0.4f' % c)\n",
        "\n",
        "    # tetapkan nilai dari variabel c ke variabel root (global variabel)\n",
        "    root = c"
      ]
    },
    {
      "cell_type": "markdown",
      "metadata": {
        "id": "gIl-94X-4l8J"
      },
      "source": [
        "<img src=\"https://i.imgur.com/3DluHV0.jpg\" alt=\"Suluh Sulistiawan\" width=\"70%\"/>\n",
        "\n",
        "Entering the found number into the Bisection function:"
      ]
    },
    {
      "cell_type": "code",
      "execution_count": 18,
      "metadata": {
        "colab": {
          "base_uri": "https://localhost:8080/"
        },
        "id": "lhJovNQG252F",
        "outputId": "36b962ac-e33b-4fe2-abf5-4e55bc6dbaa1"
      },
      "outputs": [
        {
          "name": "stdout",
          "output_type": "stream",
          "text": [
            "Iterasi ke-1,\tC = 1.5000 dan f(C) = -1.0913\n",
            "Iterasi ke-2,\tC = 1.7500 dan f(C) = 0.7542\n",
            "Iterasi ke-3,\tC = 1.6250 dan f(C) = -0.2394\n",
            "Iterasi ke-4,\tC = 1.6875 dan f(C) = 0.2390\n",
            "Iterasi ke-5,\tC = 1.6562 dan f(C) = -0.0047\n",
            "Iterasi ke-6,\tC = 1.6719 dan f(C) = 0.1160\n",
            "Iterasi ke-7,\tC = 1.6641 dan f(C) = 0.0554\n",
            "Iterasi ke-8,\tC = 1.6602 dan f(C) = 0.0253\n",
            "Iterasi ke-9,\tC = 1.6582 dan f(C) = 0.0103\n",
            "Iterasi ke-10,\tC = 1.6572 dan f(C) = 0.0028\n",
            "Iterasi ke-11,\tC = 1.6567 dan f(C) = -0.0009\n",
            "Iterasi ke-12,\tC = 1.6570 dan f(C) = 0.0009\n",
            "Iterasi ke-13,\tC = 1.6569 dan f(C) = 0.0000\n",
            "\n",
            "Ditemukan, akarnya adalah: 1.6569\n"
          ]
        }
      ],
      "source": [
        "'''\n",
        "pada screenshot di atas, menggunakan metode tabel untuk menentukan batas bawah dan batas atas\n",
        "didapat angka 1 sebagai batas bawah dan 2 sebagai batas atas\n",
        "angka tersebut dimasukkan kedalam fungsi float untuk menghasilkan nilai pecahan (1.0 dan 2.0)\n",
        "'''\n",
        "a = float(1)\n",
        "b = float(2)\n",
        "\n",
        "'''\n",
        "divalidasi bahwa batas atas dan bawah memang benar bernilai 1 dan 2\n",
        "ketika f(a) x f(b) lebih dari 0 (float = 0.0)\n",
        "maka algoritma biseksi tidak bisa dijalankan, ini adalah human error!\n",
        "'''\n",
        "if f(a) * f(b) > 0.0:\n",
        "    print('Nilai yang diberikan harus diantara akar.')\n",
        "else:\n",
        "    '''\n",
        "    ketika batas atas dan bawah tepat\n",
        "    maka nilai a dan b dimasukkan ke fungsi bisection\n",
        "    untuk menjalankan metode bisection menggunakan python\n",
        "    '''\n",
        "    bisection(a, b)"
      ]
    },
    {
      "cell_type": "markdown",
      "metadata": {
        "id": "1uv7kk8CW4dx"
      },
      "source": [
        "## Draw Animation\n",
        "\n",
        "Let's animate our chart!"
      ]
    },
    {
      "cell_type": "code",
      "execution_count": 19,
      "metadata": {
        "colab": {
          "base_uri": "https://localhost:8080/"
        },
        "id": "VuQeFa2eXU8N",
        "outputId": "7e255701-672c-4d99-f8ea-91946929818b"
      },
      "outputs": [
        {
          "name": "stdout",
          "output_type": "stream",
          "text": [
            "Looking in indexes: https://pypi.org/simple, https://us-python.pkg.dev/colab-wheels/public/simple/\n",
            "Requirement already satisfied: numpy in /usr/local/lib/python3.7/dist-packages (1.21.6)\n",
            "Requirement already satisfied: matplotlib in /usr/local/lib/python3.7/dist-packages (3.2.2)\n",
            "Requirement already satisfied: seaborn in /usr/local/lib/python3.7/dist-packages (0.11.2)\n",
            "Requirement already satisfied: cycler>=0.10 in /usr/local/lib/python3.7/dist-packages (from matplotlib) (0.11.0)\n",
            "Requirement already satisfied: kiwisolver>=1.0.1 in /usr/local/lib/python3.7/dist-packages (from matplotlib) (1.4.4)\n",
            "Requirement already satisfied: pyparsing!=2.0.4,!=2.1.2,!=2.1.6,>=2.0.1 in /usr/local/lib/python3.7/dist-packages (from matplotlib) (3.0.9)\n",
            "Requirement already satisfied: python-dateutil>=2.1 in /usr/local/lib/python3.7/dist-packages (from matplotlib) (2.8.2)\n",
            "Requirement already satisfied: typing-extensions in /usr/local/lib/python3.7/dist-packages (from kiwisolver>=1.0.1->matplotlib) (4.1.1)\n",
            "Requirement already satisfied: six>=1.5 in /usr/local/lib/python3.7/dist-packages (from python-dateutil>=2.1->matplotlib) (1.15.0)\n",
            "Requirement already satisfied: scipy>=1.0 in /usr/local/lib/python3.7/dist-packages (from seaborn) (1.7.3)\n",
            "Requirement already satisfied: pandas>=0.23 in /usr/local/lib/python3.7/dist-packages (from seaborn) (1.3.5)\n",
            "Requirement already satisfied: pytz>=2017.3 in /usr/local/lib/python3.7/dist-packages (from pandas>=0.23->seaborn) (2022.2.1)\n"
          ]
        }
      ],
      "source": [
        "pip install numpy matplotlib seaborn"
      ]
    },
    {
      "cell_type": "code",
      "execution_count": 20,
      "metadata": {
        "colab": {
          "base_uri": "https://localhost:8080/",
          "height": 454
        },
        "id": "O59P_3EjXc9n",
        "outputId": "1de41216-7188-4980-80f2-9de9b97453b3"
      },
      "outputs": [
        {
          "data": {
            "text/html": [
              "<video width=\"720\" height=\"432\" controls autoplay loop>\n",
              "  <source type=\"video/mp4\" src=\"data:video/mp4;base64,AAAAHGZ0eXBNNFYgAAACAGlzb21pc28yYXZjMQAAAAhmcmVlAAAghG1kYXQAAAKuBgX//6rcRem9\n",
              "5tlIt5Ys2CDZI+7veDI2NCAtIGNvcmUgMTUyIHIyODU0IGU5YTU5MDMgLSBILjI2NC9NUEVHLTQg\n",
              "QVZDIGNvZGVjIC0gQ29weWxlZnQgMjAwMy0yMDE3IC0gaHR0cDovL3d3dy52aWRlb2xhbi5vcmcv\n",
              "eDI2NC5odG1sIC0gb3B0aW9uczogY2FiYWM9MSByZWY9MyBkZWJsb2NrPTE6MDowIGFuYWx5c2U9\n",
              "MHgzOjB4MTEzIG1lPWhleCBzdWJtZT03IHBzeT0xIHBzeV9yZD0xLjAwOjAuMDAgbWl4ZWRfcmVm\n",
              "PTEgbWVfcmFuZ2U9MTYgY2hyb21hX21lPTEgdHJlbGxpcz0xIDh4OGRjdD0xIGNxbT0wIGRlYWR6\n",
              "b25lPTIxLDExIGZhc3RfcHNraXA9MSBjaHJvbWFfcXBfb2Zmc2V0PS0yIHRocmVhZHM9MyBsb29r\n",
              "YWhlYWRfdGhyZWFkcz0xIHNsaWNlZF90aHJlYWRzPTAgbnI9MCBkZWNpbWF0ZT0xIGludGVybGFj\n",
              "ZWQ9MCBibHVyYXlfY29tcGF0PTAgY29uc3RyYWluZWRfaW50cmE9MCBiZnJhbWVzPTMgYl9weXJh\n",
              "bWlkPTIgYl9hZGFwdD0xIGJfYmlhcz0wIGRpcmVjdD0xIHdlaWdodGI9MSBvcGVuX2dvcD0wIHdl\n",
              "aWdodHA9MiBrZXlpbnQ9MjUwIGtleWludF9taW49MTAgc2NlbmVjdXQ9NDAgaW50cmFfcmVmcmVz\n",
              "aD0wIHJjX2xvb2thaGVhZD00MCByYz1jcmYgbWJ0cmVlPTEgY3JmPTIzLjAgcWNvbXA9MC42MCBx\n",
              "cG1pbj0wIHFwbWF4PTY5IHFwc3RlcD00IGlwX3JhdGlvPTEuNDAgYXE9MToxLjAwAIAAABWoZYiE\n",
              "ABH//veIHzLLafk613IR560urR9Q7kZxXqS9/iAAAAMAAAMAAAMDNLIKRfVHO/ODwAAAAwM8AIpA\n",
              "X0uKRfADzpRgNOwejxj9blpn7HUx6+a1bhePaYNTO3zNVNLxOL+/+Pf2J25ttkr/fUP7XPoN5LUR\n",
              "vXYn0V9eaJiSh2kfiCdjiwqZhRhOpiZ7/mESqP4S3M2OjlhVQh3DrzqQ9g243YuWwvNhdIrFTDpx\n",
              "3UbfxkbUU6OOxJOyV2v5nWU6NWjVxZKi2IgKhixlWoRT3ILzxNiBFhdJIGdpqbu8XsCo4nKOOeUs\n",
              "tMJq07e2Nxew+SDLKFYVA3lrxqYSijWu/kCaqXvovllqCOZ4C120g36CeXYTIByDTH1FRs+My6fR\n",
              "VqSHQNZwuH71zy9DGD6OZkGT4NlbQ0j9LF3sImzHiFIZf6gzeA/jtWy8vLjLFD6XbC+AvzjFRKWd\n",
              "rgFJN4OnFbOVW17Ra2cMT2+qgZ5AwxsEgKcq8UNWBDiLCFVFfBIcXuXK+dXg6tKrD39ItEg/FnX8\n",
              "nq9Z2Jjd3TU9E5Rp+dVcDFTOrqRYsT3raRzwm+vYQnPJ5nJdz3Kpoan6heQpGYaESiFRam7Pet1O\n",
              "sWIjfP7u7oKRrGUuL/mLDDfvmxiNnEDc5pKjOHLjlppc9OI8r3eVFZ9DdIKttKS7KgMWa1JvhNXQ\n",
              "ylZ8XBQE/3I+VVwgI7q/1wovpOA/bQ7hYVBtKKSm9IryDZyH06JBcsN7Sjb3EKDRyfGkskHzCs4Q\n",
              "DMYrE0j4eeLfy86bX5H/PVmziA5G/oubGZNdbpPgPGF+41MApkhMl2E+KsO/WakYxtElG+Ds/Q4Y\n",
              "aRYxk901LSA0QqYK1jy1x27uJJeBqZfUVbv9/cyiSyjOyMiuNEMNLYxhPGcv5McOZQI90B4quh9h\n",
              "9ZVaWb++iDvwyx/ivz9GabjfYVFdvcoPjKjCCSIhdOJKH0nOdMwt9XlctH2s+dOLWj45dYG/ntrQ\n",
              "E7A8XE53jgMwikS1Nqam+IVHYuak40vbIcolvVFC0B0EtzYjah6yoafo4ujdZzJp5kT1tG44+vcz\n",
              "d88+zYcNQvcjBOkZ/ojEm56QGoD51H4pEsOKlLllmR95DtQFno/jqVsV/owVC/nIF6lgy67Mojnz\n",
              "dS8fyaX90QtzBcEbUBgUCMb5H5F39lrIpn+JX0oAfHpwonDIwDFM/wbkd4/pGLbSj5+w0P3awveU\n",
              "0UVcZQbd8vtcNOjcbByNhNTfha37INrKwBcXd1FWCj+IyWmzFg8H05xLJcu/UZATgXasWIfruFAf\n",
              "lieFwsX/bE9UImMqASHHg8kbmxEQ74ENp5MnFXgaSH9DHVYZfunbsuZwbM+g1Uo54o6WtK/6zetl\n",
              "m8AJHDKQ4DEmUzfsM2zO9x1kRVF44xlNn/O1eJmR4gqW5BJ3AqDL1k5BsKT5stRdamQwJlKonwBe\n",
              "8VzUI828V9Dz6cvZyvngQAAISM84lTDOpgOc9iT2RDzYJBWOmK1UguDf6XQPCsvNToPhOFehNyzz\n",
              "0UgnyHcyZ5AR+fztRY10tRJ/CB4ASqwTE4mpkX/pV7JlvZmk1mOEyH+UWyX8RJeMJSdhLJmjzMtr\n",
              "yvhl1SO1bwXynOATKyXc+DAVIpUJ77RRKu+LbUa+tOnZ+VqqHqJAo69NggBmljUiboBiA4daSAAb\n",
              "9Ab95frl3NcX/cxAIzah+NF69AP2UCQamHrb5XV53Fvj63EVcliYGpWmPyYm4btkNMaucA0ukEbI\n",
              "lnq7CI0xZp7cE10BmRQmWnn+YfsO39PgA3y4sD0eI/yDV+V1oBOwJ6+5cVC9WSJorIt0nvzXcWN2\n",
              "hVHfiIUi6QBldYm4K7GugM0NBLh40zgdt5Sx1GI6KkEPT1PmMWFAbl8T4FE8PrSEB8Lyjb1F/c99\n",
              "sG/oqftSDQd7zYfAzynP5SH5XtpFSbRiR3jW8VRGApn7VmuayuCvsSbsQD9zKbdLSCsQ3YwjIT8c\n",
              "5E+AzinT9H9iNxzhtz/ms09g/jGhIhs7kI+nHrd3iyaYRkR9D7/7sfGUbN5cth6rIVGy04QeahuS\n",
              "fUuzKH544NhhxKGQHfe7ECcSXjseyCEtAv7g0cFb2jIEKCSU5tCz/7T6+XNgRrZnQFMjOG5iBaqb\n",
              "YYd9qzCsMSqNNpLahEav03V6gtQM7JLhyS1Cw1J2lNmGcwV7l7FVPCmOu0X2kITvDdAD69sgdmsQ\n",
              "WKPkYDF2nr0AVTHxfK4EkO69wqxvc4M+SjOO09jNVZdSIMB8DBh1Rb6rMTo6rjK/wrX6DAgpDOXY\n",
              "2qZRmcPnx0W3kaPN15COdhG4UzqSwAY6hpjslfGNV9gkuTO170GJODkdu0IwmBb4QT9cB+Aha/6B\n",
              "IPqGI16W1DyLsWyNFhofNZFQGhyF3jcNPP+dwvnNILwFz4XbdsI+ARvFkLvwKcRBpUqlll73FD4H\n",
              "/gLHZUImnBcG2Keu/No8ZyRw5/z7BFuOwvGkcZQbiYxsTwAW7/HpTmGZ43jn65tOpjQFL7oWMCTr\n",
              "K0s2rUkKZDEOdmYOESb5LkAGWLKEFGxhuxpUFCrr9wNe0Y/zLMA8T3awWNG4/9lsjmLa7eV8HzY2\n",
              "qm0/BS1Crpfo7lMboBPYB7VO1QWGO83hM3WUoLztmQKKcGhuDxyt3Pv5e2suXyUMP1X0yRL//lhm\n",
              "XEIvEgtVG34nALTLzcughFAIoYmoOVFPYKNjD+CXe2bEA/zNV6M+rDURZHhRAbbXBAIs6DbNGXrk\n",
              "RN4EpAQfAc9jjEsELXOxnO+HSPlJO+eU+pdbJlLdeEWvwTkbzBLWhf+S0rzu7xPXvvrFnazfaC5b\n",
              "IR6xsCu0j47f4MmWnQEjMg617QCT1eVHU+QwESmcJ1sxBSmuH6gwiwP7miVw/ybFoY6Ajw9OYoUt\n",
              "gjq6O6KtKl4hoxFr90BEm4vNtkgKAJh70TsMH1zQrV3U+EPIoPT/OLg55VCinKkB+LLnMJJU0HVX\n",
              "BZ29sAM739IOvfF9ELbdbZTA0NTKMl/ThfDJVd6xV6pz1L3mFnl9EzZHQb5GYBSL6emap/znU6rK\n",
              "d5gL/VUANpppU+72VZNHyCxBujHFm5J/uJ9IjoFnHuVg6QwdQ9eaH0S9kouTt7KatkoGGwBiOHzl\n",
              "h9TzO4ijtJTQj7L9iRFyTeDgWg/feRtYCMWcPUZMWtyARsOCAn+MkcUwV+ktjojC9u/eRxW4y3VQ\n",
              "Dow74XDd5GhjE+PKXIjsSKBU5fJzq1rPi1XtOMMv2u9k3woXk57NaNY4btCYuNx4Dfm77jNA7Jxa\n",
              "jHjbmu89eQWYPkfChmWtNwcPIQFI5t07K3pyDjk9t9gv0JDUisMn16Z3GnX/LL8kZw7dyr43aUVT\n",
              "QJM5GF3n6JtJ3Snoe6sA7Melbzkbxpqw+KCHbYxDN/lDM1yqKuhkMl9aiz2H1QNKVdGLAnXPbu4I\n",
              "oEvWFzDfMjzEWT0WESjvAPB5srs/y5stKdKBxTmI25dpsNuvuZd7AOxuDF0FK/5u0S39aQ+RGr6v\n",
              "0NpIdJsjRpXmSscoMdn4rgOJYZS4tN29JABl/M4C6UC32HYXKczR79c+vWAtBhf+igeO5U//hMts\n",
              "1MeRW8pyWH6oXTB7p4kIxi7dM0QK0L0vpSWkJuuCfufiHZ6M2ebX3/dtAQYlRU5ViJ0nMzecz3b5\n",
              "IxdCiAz97eMwZe5oaUgrFhHodUQgP6RZduOmF80iMVU6VlsTQJfgqKCVjZix3geEIbre01E6/YzK\n",
              "hM84fc2ciCLbtHfuUJOfAizdrLpmSgwA/kLDBjjY68lutriKauPqy9lcKC0ckV5IP4tihUc1JYcJ\n",
              "8DxdbdivgtxZVhiV8oy6YbyQXTXYno5B5/aB9Yl0Jaeoa7bqxOZkAjLCBoZfitPKuBjfb02IJewK\n",
              "33NmYsO4HsVjJwJmV4o5qLGvohKmGwOURaL0noENu4pKBlk2Fd63gfuqK8SgfMRueFKM5WI4NRVB\n",
              "nfJAwkh72wTzvrhn2IQmmignxKTB0O851RAElMAabHS9qcCPDHHeNT1KTMyZT9QvUMyR5xUaJIVO\n",
              "1kt9GMTRlaCvfuaneXRgtcppWss6qiZcL71E2DoPCyCV114FWDnAPm0l5FKiyVQOIXdDw+e5dccQ\n",
              "dU/CJ0RCkDRoSL6D/o76BaaI/3tsn8JI6FAXiKp5hv1YsCI+Updft/wayvEGybaxCrDr9c8/nw1+\n",
              "VIs2MDM1u/OUdc1r3zCIEhWvRoXBRwiW7SmHG/MbIN2m8WA7AcgzwMCi/4sjTqCPBoRclPyO7SO8\n",
              "+HcdLs78dqsj0Q5BLPWwBzQyR8rjypbrzpqjYJ9j347a+ytwbeYv54nsYvMkoFjqDInN2YfvLShK\n",
              "RX74AWlgOF+Zr8CkF1d1sDm+cz1nBp9QxsjaGW68VjCFTkUoGyC1+D5fGCNpP6Gwx8istRKJUqrX\n",
              "GMIJbqC6kaISoImEtQxel+vm7xs2EpzRXfPk4Yy1vTwkmekCNEczM8nW0o/Qn+ZsXjSI16DifYlc\n",
              "6CK9Ah08RtGIbOhDG4fTh4yyg4z2onCAg8qUNyxwHBD1jxXMgldBwJaedjHU2xNfHOg3jPUv7bZB\n",
              "RSj4U/Ky/lvQtaoa0VNOk9ughIh7WRhzemeNJ/gLB/Hg2RE3FWPRFLnzo/u98Oj3v/TwDEuh0k0L\n",
              "LeK78njALArBiBcN2TS9uKR6p6tHI9/MIFhbxYj6KMayqT5QwbLbPC9rA1ENQDqMRxz2BpzzAfBh\n",
              "1sXxjS050/qqjnfgRfXmG9UctzAulSqpL/2YZU5LyLOxOB+c1vJLVhKg846AMuMhUozTEMXGgjOY\n",
              "VK6Zh5KAyX4twgsWYwlH26KvFiMnvo1ofZMJWj3nWUiQPifhnuZt0dmMcIaMe36+x+Sb+OjvewWy\n",
              "j/1GlhGm0NClcZ/J9Zcln7zvnNFqONfHoRFgwIr4d9AjdaxknkeFi8KlQYa3Nf6TxeSs1IGxT5I4\n",
              "KtB4vLlz93g3eDCxeWqE/y6stDaNk8IqNYIrYqeqPQlXm0OU1X3VSuy/PYpLIZa/6SshCrparB9H\n",
              "CbsefQzavWcSHDuSEecmU3lOBLa/8sw8yQNH/yqUqKwMuJjvDV8xlmMjS1pN/m4E+zv+8r207/Cl\n",
              "4i+aMq618XRqGUM8AlszEJX19Gqkfo08qMF7v6lCBfEm5MCt2ISx2gXTmEbYLxvXZAWwrSojuqUY\n",
              "a28TixRpsRXPuWx0d99+bmPqs+X9rL/lPNFuC3HNNetW7pK4/um+5Qm7rL7G5w38A3qmr9C7DW0x\n",
              "vpkxtshvoJDrnHMMnbenJDXGZ7hJhzwTzhlDRtVij4pxcz0Y20+Hdfb7/Yn0BwcQRgNdcg6S3SOy\n",
              "Q+mBVVmKAM/3gJpeJtHSssHTe4Uewbf+ey/pTEHmv3tyTf3/Rz05KbJnjYxxVz45x+Uhvib+5UyY\n",
              "2FmIGkiqvFNghGFfuvBND0dgWDkLRM8ZDGh2uudztCidoIHcIQ2sxdv+lca1wlbhr5RoFtjSMvbU\n",
              "vwWc6RrxkBTwI0CbdJ+0z4CUAynoPAyg9wgibTz2mrzzmczKZod5Q88EJjYcxrj/IOo1wYTC9uMT\n",
              "4ZZwCpHgKzCpCbAuL8H6taBq2IVCMLhzBHIu324kBK9syHIU4UPvo31K2OWcSlt8U3KfnBw+ob9y\n",
              "LPYj3Ng09LFF2NMHQ/ZAIWM4g6/05iGhVHVlNM9NIiOLI7u2veVWkGrzyIeBHwtELm9JaU2mv9LC\n",
              "xlcjBOzantXrag2ajR35n36rk7OTUkO0xaPJNVQADgZA8hh2ii2YNElcGPeErx0JBANQ9xaCrvf0\n",
              "tM5dWw5YdpvVIRcj2/g9C6wdgIzA066Mw34hL7HuiMBHGuHAhTk2I+2hV1OSfuPVAQc8D5QlhDMu\n",
              "kkXQGpW6jWBWc6C1JhCdU2nWMGwNbepsI4FJwpTYbRlf1wyCh3fy/NqFAlbKc2vO26nj1MjrpWfv\n",
              "1e/xoaCmSvFmTYBByuZ8FAT/t12Z3R4Pa9B1slqmBx5atMk650KAPuA6MuQgJYB8rUPIOeGfxrWx\n",
              "BpwBhnef+dr/1njHfDd52phIOX2xW93JrPfl7v9qBUrxkO4wxR/LJAp+ftJ2z+F7Pd0ubGAe6NpZ\n",
              "iiBTF8hJxHRT3UZJTHKu4qsBtWtYwpi0RIOqtqBkK1sy2fshbblyfzhHqFpS8GdMwIsEnI5Qc6kU\n",
              "fsoP97fNtLtAF0jk7H5p/ysi5u5wRItNHItPP/d8srIzCDlLuc1+NXJNNjezd6D+JO2cGfdcSkCp\n",
              "naTcNRhPzI8ZeZYZzYEv+HYAkdgDTDqeFlT5OPOzLZZKn1zwbZnbYEYJNzxHM/Jg/kL1p/HTH+6o\n",
              "KNM6LWxZUD9aV//3GMxkydi1tRPJiCyarwGUkqNbbZukTnPL1CyyLDqIO7I+wEbUi/JpJ208OZxo\n",
              "kqrNb4EHPcsB5rle7oqkTjOsiMM3QA3ouAmGr8ZyozjkO92runZ/YFGZWiC22D3PFazYGymVNGoN\n",
              "9bsYcQR4+ZvmNTPscMQNzQSyyEZVyYilfbtzTEp1MPeyZIiWVSDr35tnp49w3GVfoibjIMfkZTun\n",
              "ae4N9TIzmYXxRibzl8TaumvPm9X/JoSVMRjOOjq5cwerqgdbOI6kDW3Kt74uQDiVikBL9UzX4yS4\n",
              "G2286IFpmR73vkb3gqGEH01L/DovsH3vBaZ4vkUb+cPx3w6SyDY8f5/lTu3o1OxTTrvGJlA3So2B\n",
              "cAyljQdHWbrs+15g8Gsbc/CThvAlbQkFzm+20v1lMLHIPoOBl17qule33ZQa6ocT05md2kCS4KfR\n",
              "7OVuf8PWgqMkclGcrUe5e9W4b1b8A+v65OZo5tCv4zoxDjucgBXBlvmhvinaob8h1+2uVx8WqWzM\n",
              "VDLVm3B0+5s8fMBmM99hfA0JM0uJ21mZ+VRAWV51vnvw0x2OgLNEioJx48xwnNJILe91S3KIP6PU\n",
              "JI3xZnZ/eDW//hVEABrltnIf5z3L1HbyBdWBMb68j9sDnrz6dZ1N8WVG4Gb0eW9bz1no9NP3tHI9\n",
              "Ie6XhMBtICOajLpLDd+9Jr4WA+lblO0TCxldblwYfSZUtvnG3xIIINt+o1HGKThhJHzKK7viV2/q\n",
              "qos6n0F2QDk8Rsxsikd4WF7JWtVixaShpXCPBLYPhPKU/vCYO2hpe86adAX10UNfsyKGaLp/zaYK\n",
              "GBjVr1QN4OtmQlREhFXFeVxMaJhBTQex6GDRNhGonDy7Qg0nEbRHySO+D0HJKLdFkol9DKaVBd2J\n",
              "lpJj/HIn0Ukit/t3GbUcOFHadaDFUB/RandBNNt7AHTL0jukxSCC5zOyWn4dbKn/+aQACNUheswZ\n",
              "Eb+rrlvkvacwLAwZZcAFv6nHo0vy6Ck7RRxLwWGEMs7l/g7D2b0qrMP1/nbHnRo8lSmAvtqQNapL\n",
              "nTAAADPjsAAdYA7pAAACf0GaJGxBD/6qVQAGAv1QAlcYK59vd3CBR8+fA1Q4Kkmn9MoBZNqS+44Y\n",
              "Y3IkSYF+rHspFyEJ6AjOoXJRyDzwGDiT8lXGzv3WfL+nW2JS97O0Z8SfUJW6GWtQD9pHfF++Mozc\n",
              "FNDcVwCFFqUYDRMBGv39JjDBSKEA397YlEztR2ugng6Oe7MzNaqaSuk1ChYI8WzNWceW5dD2hKGP\n",
              "Q0xd+BX/HjstTotqw716Y1aGb1mjBlPOAhihiUZxZefDn0sPX82wTk/EfifvE9KePI4yk0KO4TKv\n",
              "slWbmeJwEuSW610HDfG3OvpSG5sf+MHkPR790t+Lu/vezWxQzVAvQy486jnc+91OxkjzE/n3YH77\n",
              "SvDvDaUu7Bk73ta0TUEfoupXzFefv/B0OhVK1AGFWwmRNgRC0mJJY39lWDv0WmN4LkqOj0z5g8ov\n",
              "XxBC3iI3BJv6QFhF5Un+VKPsYEO7nZQ9OSq7CX/H93KB/GHudXdqJ9vNldkeKRLk8AkJzAggdTOz\n",
              "SPutgzcneQdfeXK4UDnc0FRpSQoStVCfX7pM2Fe2lIbOmAJkrBK1/vZdxWQM5KaBKwNKYDishgUX\n",
              "5dVUT2GWzionsebIDMkTv4g4Vad/YqJjqXsDVX9dCA+oFGn6WZX5xCZA2j14ZNjvJH4m6RWk32CR\n",
              "EIdrbHPF7flxxkcmN2+CCEBg0wT0j+eoohhewCksUdq2HCtriM0tsAHwM1wuEsRDK3HAXP57mBIV\n",
              "rNTrRXNvO8Xx1i9DknCwddHOAzifSNFoA3PK5j7lR5lMz54jEgnlXosEnX5MtHTnNz1WZ9OP6JRP\n",
              "1nqA1Q1SQz8FlcCnuUD+vsmLhnUYh/t5VYA7oAAAAY9BnkJ4h38AADKbWERB4BxVV6AL8Pb/2tAE\n",
              "TWtjCh43xJ4DUa5kcZ9JvMyU4eLCIN1EDXdhQP+AGgT3XXg62aaAjmJUVa2rNaomS7LGcd3Gy1Ce\n",
              "8pT78iqg3LrBn7n20t/JcJ9cN4T/k/WDcMsuvMd2gbXYJXXVaLYibVXTXWXZzJhg/5O9Jql/Lr+B\n",
              "Ib39cjPEc6MHF05d3qx148R6+4grcSOzZoC3xRB64+KnLHN7LdZAiT3Na84iMKhg4Udg32WFxzy4\n",
              "rU6e6CwtzL+kFYpO4i2IchPnoc4Bhki2r1bLMnk2MJWxibD4I9e842xbS/+Z8loKiJUTpn04UJLG\n",
              "c+BnLDKdAM0yf/CQNNbUrOP4ZKYEk0BKL7rHDvAD1G4MyQAX4WCyOf92+rnlg4mLLDTMGWnT0W0v\n",
              "GiV4aRSxQVagq9U0xOP+vvUUim2rv8JuGiDYRK1aaw9Ofid5gigKq6tKD9a3gkitXMvfGCwt/ehO\n",
              "c7CozBzhYH5CpWE/V8sDME96OLI+htovJTU4CazDgXEAAAB6AZ5hdEN/AABHbx2mqnjVOB7UABJ3\n",
              "Orw/d2G/gZHJ7n+B79VojsV51cBgwnhkyAOPdvI1RyOojMOHz/8+FecqbnPVo9JJOH0+oqJVtMcO\n",
              "J24g6MhLnqpilCMFNtBY/GIud5oJPzw0/SMfhRp1RFwArigGC9cbzT5ALaAAAACeAZ5jakN/AAAX\n",
              "R6DjBtaONtPXaV0AIunDEtnP08G9I1RVbZ9SVN2/KuXdLg45THn04+Te1gocgIclTn2tVX/sWNXB\n",
              "vUQlzf4HILK4vm/abu0AvKE0bPwpFI+nx16I/oGoGI+Ex+TkP9yqlWYv3kF0TPjpX/eiob2SdE/5\n",
              "JosbFNvY66R//hRsEG3waC4Xn4WOzwsw1u1sruch+aCAAi8AAACsQZpoSahBaJlMCCH//qpVAAAF\n",
              "S76oANF4yjysLK3sOgMTlu8qijBvvgZYnSis6C3/RctxEEaC5v0ewHRAvavJtI+d66hdRTIwl/Cc\n",
              "GZ63BNybt7M8pD751tiXH3VM5lBCFTHAkOrOV9HqGkuDir5D1HY7Ql2YmeCcBvq+8vscjnwK7CC2\n",
              "xg9/UYnCAwMPzlbLMvCYum3C2AgvzPxx018AKjqEI42c7sCJavXh4QAAAJxBnoZFESw7/wAAEApU\n",
              "NKtbCagdJNdUMZlVaDeUgA1bf/JMxTXtSPfjIxtyD4Efekm/QJ3xR8StoKyaTwpt65YErpEkXPY7\n",
              "uWOQ8QDfIWDW8IGzS3w6F6wsFqoeJWFHITb1DtUwNzGwd1tfhyJbJXVt1knTPl8c1/e967qHpBmn\n",
              "AOJ6X0A7tPiByDYLRzU2tr5betSpzPLkN7IAF5EAAAB0AZ6ldEN/AAAXQ73ZvMe7mjZEN05Eh5Ng\n",
              "A2q5STMtPozoy3BU0yyn2jgzrpwEQDoC3jowdryC2WHcbFdN9S8UfWeL6ihdVl4ya3AwwNUZyNff\n",
              "UM7BRgfmICTkUbESdAKmVDJuMkOXTTAiNSwRCy94a8AABB0AAAA6AZ6nakN/AAAXR6DijheQhYbL\n",
              "YABBpoBg0Xh1a6UuA/3bwogbF/51NULBSZxusjo/NIZnn8FIwADugAAAAD9BmqxJqEFsmUwIb//+\n",
              "p4QAAAMABiQVngy7xACAk1kpwh23hXqc4ChJx+4MVmwpTviPtNvBScrssdztRgmQAb8AAABPQZ7K\n",
              "RRUsO/8AABAKVDSjh1bOHcABMiV1quY4pCRbgLEDQXpRLTl5pCsOuHw7Jv3HhEadtN+B6a+nDRNY\n",
              "9N9VPtbNBzrNjQE8ePvSOAA8YQAAACUBnul0Q38AABdDvdmT2hK6oUUpX5grPAZPa2uZ5uSidJzy\n",
              "AAl4AAAAHwGe62pDfwAAF0eg4o4pAddAMGI+vwyVAIeb1tgABUwAAAPKbW9vdgAAAGxtdmhkAAAA\n",
              "AAAAAAAAAAAAAAAD6AAABRQAAQAAAQAAAAAAAAAAAAAAAAEAAAAAAAAAAAAAAAAAAAABAAAAAAAA\n",
              "AAAAAAAAAABAAAAAAAAAAAAAAAAAAAAAAAAAAAAAAAAAAAAAAAAAAgAAAvR0cmFrAAAAXHRraGQA\n",
              "AAADAAAAAAAAAAAAAAABAAAAAAAABRQAAAAAAAAAAAAAAAAAAAAAAAEAAAAAAAAAAAAAAAAAAAAB\n",
              "AAAAAAAAAAAAAAAAAABAAAAAAtAAAAGwAAAAAAAkZWR0cwAAABxlbHN0AAAAAAAAAAEAAAUUAAAI\n",
              "AAABAAAAAAJsbWRpYQAAACBtZGhkAAAAAAAAAAAAAAAAAAAoAAAANABVxAAAAAAALWhkbHIAAAAA\n",
              "AAAAAHZpZGUAAAAAAAAAAAAAAABWaWRlb0hhbmRsZXIAAAACF21pbmYAAAAUdm1oZAAAAAEAAAAA\n",
              "AAAAAAAAACRkaW5mAAAAHGRyZWYAAAAAAAAAAQAAAAx1cmwgAAAAAQAAAddzdGJsAAAAs3N0c2QA\n",
              "AAAAAAAAAQAAAKNhdmMxAAAAAAAAAAEAAAAAAAAAAAAAAAAAAAAAAtABsABIAAAASAAAAAAAAAAB\n",
              "AAAAAAAAAAAAAAAAAAAAAAAAAAAAAAAAAAAAAAAAAAAAGP//AAAAMWF2Y0MBZAAW/+EAGGdkABas\n",
              "2UC0N6EAAAMAAQAAAwAUDxYtlgEABmjr48siwAAAABx1dWlka2hA8l8kT8W6OaUbzwMj8wAAAAAA\n",
              "AAAYc3R0cwAAAAAAAAABAAAADQAABAAAAAAUc3RzcwAAAAAAAAABAAAAAQAAAHhjdHRzAAAAAAAA\n",
              "AA0AAAABAAAIAAAAAAEAABQAAAAAAQAACAAAAAABAAAAAAAAAAEAAAQAAAAAAQAAFAAAAAABAAAI\n",
              "AAAAAAEAAAAAAAAAAQAABAAAAAABAAAUAAAAAAEAAAgAAAAAAQAAAAAAAAABAAAEAAAAABxzdHNj\n",
              "AAAAAAAAAAEAAAABAAAADQAAAAEAAABIc3RzegAAAAAAAAAAAAAADQAAGF4AAAKDAAABkwAAAH4A\n",
              "AACiAAAAsAAAAKAAAAB4AAAAPgAAAEMAAABTAAAAKQAAACMAAAAUc3RjbwAAAAAAAAABAAAALAAA\n",
              "AGJ1ZHRhAAAAWm1ldGEAAAAAAAAAIWhkbHIAAAAAAAAAAG1kaXJhcHBsAAAAAAAAAAAAAAAALWls\n",
              "c3QAAAAlqXRvbwAAAB1kYXRhAAAAAQAAAABMYXZmNTcuODMuMTAw\n",
              "\">\n",
              "  Your browser does not support the video tag.\n",
              "</video>"
            ],
            "text/plain": [
              "<matplotlib.animation.FuncAnimation at 0x7f54e23a2190>"
            ]
          },
          "execution_count": 20,
          "metadata": {},
          "output_type": "execute_result"
        }
      ],
      "source": [
        "import numpy as np\n",
        "import matplotlib.pyplot as plt\n",
        "import matplotlib.animation as animation\n",
        "import seaborn as sns\n",
        "\n",
        "%matplotlib inline\n",
        "sns.set()\n",
        "\n",
        "top = 0.75\n",
        "bottom = 2.25\n",
        "\n",
        "x = np.arange(top, bottom, 0.1)\n",
        "fig = plt.figure(figsize=(10, 6))\n",
        "ax = plt.axes(xlim=(top, bottom), ylim=(min(f(x)), max(f(x))))\n",
        "\n",
        "plt.yticks([], [])\n",
        "ax.spines[\"bottom\"].set_position((\"data\", 0))\n",
        "ax.spines[\"bottom\"].set_color('black')\n",
        "\n",
        "sns.lineplot(x=x, y=f(x))\n",
        "\n",
        "nodea, = ax.plot([a], [f(a)], 'yo', markersize=15)\n",
        "nodeb, = ax.plot([b], [f(b)], 'go', markersize=15)\n",
        "nodec, = ax.plot([root], [f(root)], 'ro', markersize=15)\n",
        "\n",
        "ax.legend(['function', 'a', 'b', 'c'])\n",
        "\n",
        "\n",
        "def draw(f, a, b, e=10**-4, n=100):\n",
        "    if f(a) * f(b) >= 0:\n",
        "        return None\n",
        "\n",
        "    xa = np.array([])\n",
        "    xb = np.array([])\n",
        "    xc = np.array([])\n",
        "\n",
        "    step = 1\n",
        "    condition = True\n",
        "\n",
        "    while condition:\n",
        "        c = (a + b) / 2\n",
        "\n",
        "        xa = np.append(xa, a)\n",
        "        xb = np.append(xb, b)\n",
        "        xc = np.append(xc, c)\n",
        "\n",
        "        if f(a) * f(c) < 0:\n",
        "            b = c\n",
        "        else:\n",
        "            a = c\n",
        "\n",
        "        step = step + 1\n",
        "        condition = abs(f(c)) > e and step <= n\n",
        "\n",
        "    return xa, xb, xc\n",
        "\n",
        "\n",
        "xa, xb, xc = draw(f, a, b)\n",
        "\n",
        "\n",
        "def animate(i):\n",
        "    nodea.set_data(xa[i], f(xa[i]))\n",
        "    nodeb.set_data(xb[i], f(xb[i]))\n",
        "    nodec.set_data(xc[i], f(xc[i]))\n",
        "\n",
        "    return nodea, nodeb, nodec\n",
        "\n",
        "\n",
        "plt.rcParams['animation.html'] = 'html5'\n",
        "anim = animation.FuncAnimation(fig, animate, frames=len(\n",
        "    xa), blit=False, repeat=True, interval=100)\n",
        "plt.close()\n",
        "anim"
      ]
    }
  ],
  "metadata": {
    "colab": {
      "collapsed_sections": [],
      "provenance": []
    },
    "kernelspec": {
      "display_name": "Python 3.8.10 64-bit",
      "language": "python",
      "name": "python3"
    },
    "language_info": {
      "name": "python",
      "version": "3.8.10"
    },
    "vscode": {
      "interpreter": {
        "hash": "916dbcbb3f70747c44a77c7bcd40155683ae19c65e1c03b4aa3499c5328201f1"
      }
    }
  },
  "nbformat": 4,
  "nbformat_minor": 0
}
