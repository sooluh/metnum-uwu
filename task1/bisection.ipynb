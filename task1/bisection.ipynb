{
  "nbformat": 4,
  "nbformat_minor": 0,
  "metadata": {
    "colab": {
      "provenance": [],
      "collapsed_sections": []
    },
    "kernelspec": {
      "name": "python3",
      "display_name": "Python 3"
    },
    "language_info": {
      "name": "python"
    }
  },
  "cells": [
    {
      "cell_type": "markdown",
      "source": [
        "# Personal Task #1\n",
        "\n",
        "<table width=\"100%\">\n",
        "  <tr>\n",
        "    <td width=80px><font size=3>Name</font></td>\n",
        "    <td width=5px><font size=3>:</font></td>\n",
        "    <td><font size=3>Suluh Sulistiawan</font></td>\n",
        "  </tr>\n",
        "  <tr>\n",
        "    <td width=80px><font size=3>NIM</font></td>\n",
        "    <td width=5px><font size=3>:</font></td>\n",
        "    <td><font size=3>211351143</font></td>\n",
        "  </tr>\n",
        "  <tr>\n",
        "    <td width=80px><font size=3>Class</font></td>\n",
        "    <td width=5px><font size=3>:</font></td>\n",
        "    <td><font size=3>IFMB 2021</font></td>\n",
        "  </tr>\n",
        "</table>"
      ],
      "metadata": {
        "id": "OUpi4hFbp3Sm"
      }
    },
    {
      "cell_type": "markdown",
      "source": [
        "**GitHub Repository**:<br>\n",
        "[Explore ↗️](https://github.com/sooluh/metnum-uwu)"
      ],
      "metadata": {
        "id": "kXKm9QfNwPdK"
      }
    },
    {
      "cell_type": "markdown",
      "source": [
        "## Equation\n",
        "\n",
        "\\begin{equation}\n",
        "f(x) = 2.05x^3-1.12x^3-4.23\n",
        "\\end{equation}"
      ],
      "metadata": {
        "id": "ReMym0htwW4E"
      }
    },
    {
      "cell_type": "markdown",
      "source": [
        "## Defining a function\n",
        "\n",
        "Applying the equation function formula to Python code:"
      ],
      "metadata": {
        "id": "y5Q8pg-AzQXX"
      }
    },
    {
      "cell_type": "code",
      "execution_count": 26,
      "metadata": {
        "id": "xsP0Su0Xx0VH"
      },
      "outputs": [],
      "source": [
        "def f(x):\n",
        "  return 2.05*x**3-1.12*x**3-4.23"
      ]
    },
    {
      "cell_type": "markdown",
      "source": [
        "Implement the bisection method function:"
      ],
      "metadata": {
        "id": "zeI28SWpzwo8"
      }
    },
    {
      "cell_type": "code",
      "source": [
        "def bisection(a, b, tol = 10**-4):\n",
        "  step = 1\n",
        "  condition = True\n",
        "\n",
        "  while condition:\n",
        "    c = (a + b) / 2\n",
        "    print('Iterasi ke-%d,\\tC = %0.4f dan f(C) = %0.4f' % (step, c, f(c)))\n",
        "\n",
        "    if f(a) * f(c) < 0:\n",
        "      b = c\n",
        "    else:\n",
        "      a = c\n",
        "\n",
        "    step = step + 1\n",
        "    condition = abs(f(c)) > tol and step <= 100\n",
        "\n",
        "  print('\\nDitemukan, akarnya adalah: %0.4f' % c)"
      ],
      "metadata": {
        "id": "JbXK0wt4zzyC"
      },
      "execution_count": 27,
      "outputs": []
    },
    {
      "cell_type": "markdown",
      "source": [
        "<img src=\"https://i.imgur.com/VPmV3CD.png\" alt=\"Suluh Sulistiawan\" width=\"70%\"/>\n",
        "\n",
        "Entering the found number into the Bisection function:"
      ],
      "metadata": {
        "id": "gIl-94X-4l8J"
      }
    },
    {
      "cell_type": "code",
      "source": [
        "a = float(1)\n",
        "b = float(2)\n",
        "\n",
        "if f(a) * f(b) > 0.0:\n",
        "  print('Nilai yang diberikan harus diantara akar.')\n",
        "else:\n",
        "  bisection(a, b)"
      ],
      "metadata": {
        "colab": {
          "base_uri": "https://localhost:8080/"
        },
        "id": "lhJovNQG252F",
        "outputId": "d142ef0d-5956-42e6-8316-87dd083a81bd"
      },
      "execution_count": 28,
      "outputs": [
        {
          "output_type": "stream",
          "name": "stdout",
          "text": [
            "Iterasi ke-1,\tC = 1.5000 dan f(C) = -1.0913\n",
            "Iterasi ke-2,\tC = 1.7500 dan f(C) = 0.7542\n",
            "Iterasi ke-3,\tC = 1.6250 dan f(C) = -0.2394\n",
            "Iterasi ke-4,\tC = 1.6875 dan f(C) = 0.2390\n",
            "Iterasi ke-5,\tC = 1.6562 dan f(C) = -0.0047\n",
            "Iterasi ke-6,\tC = 1.6719 dan f(C) = 0.1160\n",
            "Iterasi ke-7,\tC = 1.6641 dan f(C) = 0.0554\n",
            "Iterasi ke-8,\tC = 1.6602 dan f(C) = 0.0253\n",
            "Iterasi ke-9,\tC = 1.6582 dan f(C) = 0.0103\n",
            "Iterasi ke-10,\tC = 1.6572 dan f(C) = 0.0028\n",
            "Iterasi ke-11,\tC = 1.6567 dan f(C) = -0.0009\n",
            "Iterasi ke-12,\tC = 1.6570 dan f(C) = 0.0009\n",
            "Iterasi ke-13,\tC = 1.6569 dan f(C) = 0.0000\n",
            "\n",
            "Ditemukan, akarnya adalah: 1.6569\n"
          ]
        }
      ]
    }
  ]
}