{
  "cells": [
    {
      "cell_type": "markdown",
      "metadata": {
        "id": "r0RMIBUp82Xq"
      },
      "source": [
        "# Personal Task #2\n",
        "\n",
        "<table width=\"100%\">\n",
        "  <tr>\n",
        "    <td width=80px><font size=3>Name</font></td>\n",
        "    <td width=5px><font size=3>:</font></td>\n",
        "    <td><font size=3>Suluh Sulistiawan</font></td>\n",
        "  </tr>\n",
        "  <tr>\n",
        "    <td width=80px><font size=3>NIM</font></td>\n",
        "    <td width=5px><font size=3>:</font></td>\n",
        "    <td><font size=3>211351143</font></td>\n",
        "  </tr>\n",
        "  <tr>\n",
        "    <td width=80px><font size=3>Class</font></td>\n",
        "    <td width=5px><font size=3>:</font></td>\n",
        "    <td><font size=3>IFMB 2021</font></td>\n",
        "  </tr>\n",
        "</table>"
      ]
    },
    {
      "cell_type": "markdown",
      "metadata": {
        "id": "1RLuWqQM84_6"
      },
      "source": [
        "**GitHub Repository**:<br>\n",
        "[Explore ↗️](https://github.com/sooluh/metnum-uwu)"
      ]
    },
    {
      "cell_type": "markdown",
      "metadata": {
        "id": "SuCa59MK86al"
      },
      "source": [
        "## Equation Formula\n",
        "\n",
        "\\begin{equation}\n",
        "f(x) = 2.99x^5-1.12x^3-1.26\n",
        "\\end{equation}"
      ]
    },
    {
      "cell_type": "markdown",
      "metadata": {
        "id": "shneEaRm88bd"
      },
      "source": [
        "## Define function\n",
        "\n",
        "Applying the above equation to a function in Python code:"
      ]
    },
    {
      "cell_type": "code",
      "execution_count": 7,
      "metadata": {
        "id": "Gahfziir8-Cc"
      },
      "outputs": [],
      "source": [
        "def f(x):\n",
        "    return 2.99*x**5-1.12*x**3-1.26"
      ]
    },
    {
      "cell_type": "markdown",
      "metadata": {
        "id": "SXd-NhVI9BtZ"
      },
      "source": [
        "Implement the false position (regula falsi) method function:"
      ]
    },
    {
      "cell_type": "code",
      "execution_count": 8,
      "metadata": {
        "id": "ma4ofyfL9NVl"
      },
      "outputs": [],
      "source": [
        "def regulafalsi(a, b, e=10**-4, n=100):\n",
        "    step = 1\n",
        "    condition = True\n",
        "\n",
        "    while condition:\n",
        "        c = (a * f(b) - b * f(a)) / (f(b) - f(a))\n",
        "        print('Iterasi ke-%d,\\tC = %0.4f dan f(C) = %0.4f' % (step, c, f(c)))\n",
        "\n",
        "        if f(a) * f(c) > 0:\n",
        "            a = c\n",
        "        else:\n",
        "            b = c\n",
        "\n",
        "        '''\n",
        "        jika f(c) = 0 atau akar telah ditemukan, program akan terhenti\n",
        "        jika |f(c)| < nilai toleransi program akan terhenti\n",
        "        artinya, nilai toleransi/galat telah tercapai\n",
        "        '''\n",
        "        step = step + 1\n",
        "        condition = f(c) != 0 and abs(f(c)) > e\n",
        "\n",
        "    print('\\nDitemukan, akarnya adalah: %0.4f' % c)"
      ]
    },
    {
      "cell_type": "markdown",
      "metadata": {
        "id": "VOVkOCHe-rgf"
      },
      "source": [
        "<img src=\"https://i.imgur.com/AJXjynM.jpg\" alt=\"Suluh Sulistiawan\" width=\"70%\"/>\n",
        "\n",
        "Entering the found number into the Bisection function:"
      ]
    },
    {
      "cell_type": "code",
      "execution_count": 10,
      "metadata": {
        "colab": {
          "base_uri": "https://localhost:8080/"
        },
        "id": "90l5WKx1-uIy",
        "outputId": "99878d11-f643-40f8-f1c0-c0bc63a1e176"
      },
      "outputs": [
        {
          "name": "stdout",
          "output_type": "stream",
          "text": [
            "Iterasi ke-1,\tC = 0.6738 dan f(C) = -1.1874\n",
            "Iterasi ke-2,\tC = 0.8893 dan f(C) = -0.3847\n",
            "Iterasi ke-3,\tC = 0.9321 dan f(C) = -0.0632\n",
            "Iterasi ke-4,\tC = 0.9385 dan f(C) = -0.0090\n",
            "Iterasi ke-5,\tC = 0.9394 dan f(C) = -0.0013\n",
            "Iterasi ke-6,\tC = 0.9395 dan f(C) = -0.0002\n",
            "Iterasi ke-7,\tC = 0.9395 dan f(C) = -0.0000\n",
            "\n",
            "Ditemukan, akarnya adalah: 0.9395\n"
          ]
        }
      ],
      "source": [
        "a = float(0)\n",
        "b = float(1)\n",
        "\n",
        "if f(a) * f(b) > 0.0:\n",
        "    print('Nilai yang diberikan harus diantara akar.')\n",
        "else:\n",
        "    regulafalsi(a, b)"
      ]
    }
  ],
  "metadata": {
    "colab": {
      "collapsed_sections": [],
      "provenance": []
    },
    "kernelspec": {
      "display_name": "Python 3.8.10 64-bit",
      "language": "python",
      "name": "python3"
    },
    "language_info": {
      "name": "python",
      "version": "3.8.10"
    },
    "vscode": {
      "interpreter": {
        "hash": "916dbcbb3f70747c44a77c7bcd40155683ae19c65e1c03b4aa3499c5328201f1"
      }
    }
  },
  "nbformat": 4,
  "nbformat_minor": 0
}
